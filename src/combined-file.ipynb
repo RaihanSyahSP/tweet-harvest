{
 "cells": [
  {
   "cell_type": "code",
   "execution_count": 1,
   "metadata": {},
   "outputs": [],
   "source": [
    "import pandas as pd\n",
    "import os\n",
    "\n",
    "input_directory = \"../tweets-data\"\n",
    "output_file = \"../tweets-data/Combined-File/combined.csv\"\n",
    "\n",
    "# Create an empty list to hold DataFrames\n",
    "data_frames = []\n",
    "\n",
    "for filename in os.listdir(input_directory):\n",
    "    if filename.endswith(\".csv\"):\n",
    "        file_path = os.path.join(input_directory, filename)\n",
    "        df = pd.read_csv(file_path)\n",
    "        data_frames.append(df)\n",
    "\n",
    "# Concatenate all DataFrames in the list\n",
    "combined_data = pd.concat(data_frames, ignore_index=True)\n",
    "\n",
    "# Remove duplicates based on all columns\n",
    "combined_data = combined_data.drop_duplicates()\n",
    "\n",
    "# Save the combined data to a CSV file\n",
    "combined_data.to_csv(output_file, index=False)\n"
   ]
  },
  {
   "cell_type": "code",
   "execution_count": 2,
   "metadata": {},
   "outputs": [
    {
     "name": "stdout",
     "output_type": "stream",
     "text": [
      "Total number of tweets: 1893\n",
      "Time range of tweets: 2023-12-12 05:05:12+00:00 to 2023-12-26 23:50:21+00:00\n",
      "Time range duration: 14 days 18:45:09\n"
     ]
    },
    {
     "name": "stderr",
     "output_type": "stream",
     "text": [
      "C:\\Users\\TEMP\\AppData\\Local\\Temp\\ipykernel_10568\\2848172660.py:21: UserWarning: Could not infer format, so each element will be parsed individually, falling back to `dateutil`. To ensure parsing is consistent and as-expected, please specify a format.\n",
      "  combined_data['created_at'] = pd.to_datetime(combined_data['created_at'])\n"
     ]
    }
   ],
   "source": [
    "import pandas as pd\n",
    "import os\n",
    "\n",
    "def calculate_tweet_stats(input_directory, output_file):\n",
    "    # Create an empty list to hold DataFrames\n",
    "    data_frames = []\n",
    "\n",
    "    for filename in os.listdir(input_directory):\n",
    "        if filename.endswith(\".csv\"):\n",
    "            file_path = os.path.join(input_directory, filename)\n",
    "            df = pd.read_csv(file_path)\n",
    "            data_frames.append(df)\n",
    "\n",
    "    # Concatenate all DataFrames in the list\n",
    "    combined_data = pd.concat(data_frames, ignore_index=True)\n",
    "\n",
    "    # Remove duplicates based on all columns\n",
    "    combined_data = combined_data.drop_duplicates()\n",
    "\n",
    "    # Convert 'created_at' column to datetime format\n",
    "    combined_data['created_at'] = pd.to_datetime(combined_data['created_at'])\n",
    "\n",
    "    # Calculate the total number of tweets\n",
    "    total_tweets = len(combined_data)\n",
    "\n",
    "    # Determine the time range\n",
    "    start_time = combined_data['created_at'].min()\n",
    "    end_time = combined_data['created_at'].max()\n",
    "    time_range = end_time - start_time\n",
    "\n",
    "    # Save the combined data to a CSV file\n",
    "    combined_data.to_csv(output_file, index=False)\n",
    "\n",
    "    # Return the results\n",
    "    return total_tweets, start_time, end_time, time_range\n",
    "\n",
    "# Example usage:\n",
    "input_directory = \"../tweets-data\"\n",
    "output_file = \"../tweets-data/Combined-File/combined.csv\"\n",
    "total_tweets, start_time, end_time, time_range = calculate_tweet_stats(input_directory, output_file)\n",
    "\n",
    "# Print the results\n",
    "print(\"Total number of tweets:\", total_tweets)\n",
    "print(\"Time range of tweets: {} to {}\".format(start_time, end_time))\n",
    "print(\"Time range duration:\", time_range)\n"
   ]
  }
 ],
 "metadata": {
  "kernelspec": {
   "display_name": "Python 3",
   "language": "python",
   "name": "python3"
  },
  "language_info": {
   "codemirror_mode": {
    "name": "ipython",
    "version": 3
   },
   "file_extension": ".py",
   "mimetype": "text/x-python",
   "name": "python",
   "nbconvert_exporter": "python",
   "pygments_lexer": "ipython3",
   "version": "3.9.0"
  }
 },
 "nbformat": 4,
 "nbformat_minor": 2
}
