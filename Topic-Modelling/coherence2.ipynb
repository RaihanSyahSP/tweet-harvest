{
 "cells": [
  {
   "cell_type": "code",
   "execution_count": 1,
   "metadata": {},
   "outputs": [
    {
     "name": "stdout",
     "output_type": "stream",
     "text": [
      "Dokumen 1:\n",
      "('mary', 'had', 'a', 'lamp')\n",
      "\n",
      "Dokumen 2:\n",
      "('mary', 'has', 'roses')\n",
      "\n",
      "Dokumen 3:\n",
      "('roses', 'are', 'red')\n",
      "\n",
      "Dokumen 4:\n",
      "('violets', 'are', 'light', 'blue')\n",
      "\n"
     ]
    }
   ],
   "source": [
    "corpus = []\n",
    "\n",
    "# Dokumen 1\n",
    "doc1 = ('mary','had','a','lamp')\n",
    "corpus.append(doc1)\n",
    "\n",
    "# Dokumen 2\n",
    "doc2 = ('mary','has','roses')\n",
    "corpus.append(doc2)\n",
    "\n",
    "# Dokumen 3\n",
    "doc3 = ('roses','are','red')\n",
    "corpus.append(doc3)\n",
    "\n",
    "# Dokumen 4\n",
    "doc4 = ('violets','are','light','blue')\n",
    "corpus.append(doc4)\n",
    "\n",
    "# Menampilkan korpus\n",
    "for i, doc in enumerate(corpus):\n",
    "    print(f\"Dokumen {i+1}:\\n{doc}\\n\")"
   ]
  },
  {
   "cell_type": "code",
   "execution_count": 7,
   "metadata": {},
   "outputs": [
    {
     "name": "stdout",
     "output_type": "stream",
     "text": [
      "(0, '0.371*\"roses\" + 0.212*\"red\" + 0.204*\"mary\"')\n",
      "(1, '0.315*\"mary\" + 0.303*\"lamp\" + 0.077*\"roses\"')\n",
      "(2, '0.250*\"blue\" + 0.250*\"light\" + 0.249*\"violets\"')\n"
     ]
    }
   ],
   "source": [
    "from gensim import corpora\n",
    "from gensim.models import LdaModel\n",
    "from gensim.parsing.preprocessing import STOPWORDS\n",
    "\n",
    "# Daftar stop words khusus\n",
    "custom_stopwords = set(['are', 'had', 'has', 'a'])\n",
    "\n",
    "# Konversi tuple ke list\n",
    "corpus = [list(doc) for doc in corpus]\n",
    "\n",
    "# Pra-pemrosesan teks dengan penghapusan stop words\n",
    "tokenized_corpus = [\n",
    "    [word for word in doc if word not in custom_stopwords]\n",
    "    for doc in corpus\n",
    "]\n",
    "\n",
    "# Membangun kamus\n",
    "dictionary = corpora.Dictionary(tokenized_corpus)\n",
    "\n",
    "# Membuat representasi bag-of-words untuk setiap dokumen\n",
    "bow_corpus = [dictionary.doc2bow(text) for text in tokenized_corpus]\n",
    "\n",
    "# Melatih model LDA\n",
    "lda_model = LdaModel(bow_corpus, num_topics=3, id2word=dictionary, passes=10)\n",
    "\n",
    "# Menampilkan topik\n",
    "topics = lda_model.print_topics(num_words=3)\n",
    "for topic in topics:\n",
    "    print(topic)\n"
   ]
  },
  {
   "cell_type": "code",
   "execution_count": 19,
   "metadata": {},
   "outputs": [
    {
     "name": "stdout",
     "output_type": "stream",
     "text": [
      "('roses', 'red')\n",
      "('roses', 'mary')\n",
      "('red', 'roses')\n",
      "('red', 'mary')\n",
      "('mary', 'roses')\n",
      "('mary', 'red')\n"
     ]
    }
   ],
   "source": [
    "from itertools import permutations\n",
    "\n",
    "def generate_keyword_pairs(keywords):\n",
    "    keyword_permutations = permutations(keywords, 2)\n",
    "    result = []\n",
    "\n",
    "    for perm in keyword_permutations:\n",
    "        result.append(perm)\n",
    "\n",
    "    return result\n",
    "\n",
    "keywords = [\"roses\", \"red\", \"mary\"]\n",
    "keyword_pairs = generate_keyword_pairs(keywords)\n",
    "\n",
    "for pair in keyword_pairs:\n",
    "    print(pair)\n"
   ]
  },
  {
   "cell_type": "code",
   "execution_count": 20,
   "metadata": {},
   "outputs": [
    {
     "ename": "NameError",
     "evalue": "name 'all_sliding_windows' is not defined",
     "output_type": "error",
     "traceback": [
      "\u001b[1;31m---------------------------------------------------------------------------\u001b[0m",
      "\u001b[1;31mNameError\u001b[0m                                 Traceback (most recent call last)",
      "Cell \u001b[1;32mIn[20], line 15\u001b[0m\n\u001b[0;32m     12\u001b[0m     \u001b[38;5;28;01mreturn\u001b[39;00m probabilities\n\u001b[0;32m     14\u001b[0m \u001b[38;5;66;03m# Hitung probabilitas semua kata dalam semua sliding windows\u001b[39;00m\n\u001b[1;32m---> 15\u001b[0m all_word_probabilities \u001b[38;5;241m=\u001b[39m calculate_all_word_probabilities(\u001b[43mall_sliding_windows\u001b[49m)\n\u001b[0;32m     17\u001b[0m \u001b[38;5;66;03m# Cetak hasil probabilitas dalam bentuk pecahan\u001b[39;00m\n\u001b[0;32m     18\u001b[0m \u001b[38;5;28mprint\u001b[39m(\u001b[38;5;124m\"\u001b[39m\u001b[38;5;124mProbabilitas untuk Semua Kata (dalam bentuk pecahan):\u001b[39m\u001b[38;5;124m\"\u001b[39m)\n",
      "\u001b[1;31mNameError\u001b[0m: name 'all_sliding_windows' is not defined"
     ]
    }
   ],
   "source": [
    "# Fungsi untuk menghitung probabilitas semua kata dalam sliding windows\n",
    "def calculate_all_word_probabilities(all_sliding_windows):\n",
    "    # Menghitung frekuensi kemunculan setiap kata dalam semua sliding windows\n",
    "    word_counts = Counter(word for window in all_sliding_windows for word in window)\n",
    "    \n",
    "    # Menghitung jumlah total kata dalam semua sliding windows\n",
    "    total_words = sum(len(window) for window in all_sliding_windows)\n",
    "    \n",
    "    # Menghitung probabilitas setiap kata\n",
    "    probabilities = {word: Fraction(count, len(all_sliding_windows)) for word, count in word_counts.items()}\n",
    "    \n",
    "    return probabilities\n",
    "\n",
    "# Hitung probabilitas semua kata dalam semua sliding windows\n",
    "all_word_probabilities = calculate_all_word_probabilities(all_sliding_windows)\n",
    "\n",
    "# Cetak hasil probabilitas dalam bentuk pecahan\n",
    "print(\"Probabilitas untuk Semua Kata (dalam bentuk pecahan):\")\n",
    "for word, probability in all_word_probabilities.items():\n",
    "    print(f\"  Kata '{word}': {probability}\")\n"
   ]
  }
 ],
 "metadata": {
  "kernelspec": {
   "display_name": "Python 3",
   "language": "python",
   "name": "python3"
  },
  "language_info": {
   "codemirror_mode": {
    "name": "ipython",
    "version": 3
   },
   "file_extension": ".py",
   "mimetype": "text/x-python",
   "name": "python",
   "nbconvert_exporter": "python",
   "pygments_lexer": "ipython3",
   "version": "3.9.0"
  }
 },
 "nbformat": 4,
 "nbformat_minor": 2
}
