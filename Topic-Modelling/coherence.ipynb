{
 "cells": [
  {
   "cell_type": "markdown",
   "metadata": {},
   "source": [
    "Import"
   ]
  },
  {
   "cell_type": "code",
   "execution_count": 243,
   "metadata": {},
   "outputs": [],
   "source": [
    "from math import log\n",
    "from gensim import corpora\n",
    "from gensim.models import LdaModel\n",
    "from gensim.parsing.preprocessing import STOPWORDS\n",
    "from collections import Counter\n",
    "from fractions import Fraction"
   ]
  },
  {
   "cell_type": "markdown",
   "metadata": {},
   "source": [
    "DATASET"
   ]
  },
  {
   "cell_type": "code",
   "execution_count": 244,
   "metadata": {},
   "outputs": [
    {
     "name": "stdout",
     "output_type": "stream",
     "text": [
      "Dokumen 1:\n",
      "('mary', 'had', 'a', 'lamp')\n",
      "\n",
      "Dokumen 2:\n",
      "('mary', 'has', 'roses')\n",
      "\n",
      "Dokumen 3:\n",
      "('roses', 'are', 'red')\n",
      "\n",
      "Dokumen 4:\n",
      "('violets', 'are', 'light', 'blue')\n",
      "\n"
     ]
    }
   ],
   "source": [
    "corpus = []\n",
    "\n",
    "# Dokumen 1\n",
    "doc1 = ('mary','had','a','lamp')\n",
    "corpus.append(doc1)\n",
    "\n",
    "# Dokumen 2\n",
    "doc2 = ('mary','has','roses')\n",
    "corpus.append(doc2)\n",
    "\n",
    "# Dokumen 3\n",
    "doc3 = ('roses','are','red')\n",
    "corpus.append(doc3)\n",
    "\n",
    "# Dokumen 4\n",
    "doc4 = ('violets','are','light','blue')\n",
    "corpus.append(doc4)\n",
    "\n",
    "# Menampilkan korpus\n",
    "for i, doc in enumerate(corpus):\n",
    "    print(f\"Dokumen {i+1}:\\n{doc}\\n\")"
   ]
  },
  {
   "cell_type": "markdown",
   "metadata": {},
   "source": [
    "LDA MODEL"
   ]
  },
  {
   "cell_type": "code",
   "execution_count": 259,
   "metadata": {},
   "outputs": [
    {
     "name": "stdout",
     "output_type": "stream",
     "text": [
      "(0, '0.427*\"roses\" + 0.249*\"red\"')\n",
      "(1, '0.249*\"light\" + 0.249*\"blue\"')\n",
      "(2, '0.427*\"mary\" + 0.250*\"lamp\"')\n"
     ]
    }
   ],
   "source": [
    "\n",
    "# Daftar stop words khusus\n",
    "custom_stopwords = set(['are', 'had', 'has', 'a'])\n",
    "\n",
    "# Konversi tuple ke list\n",
    "corpus = [list(doc) for doc in corpus]\n",
    "\n",
    "# Pra-pemrosesan teks dengan penghapusan stop words\n",
    "tokenized_corpus = [\n",
    "    [word for word in doc if word not in custom_stopwords]\n",
    "    for doc in corpus\n",
    "]\n",
    "\n",
    "# Membangun kamus\n",
    "dictionary = corpora.Dictionary(tokenized_corpus)\n",
    "\n",
    "# Membuat representasi bag-of-words untuk setiap dokumen\n",
    "bow_corpus = [dictionary.doc2bow(text) for text in tokenized_corpus]\n",
    "\n",
    "# Melatih model LDA\n",
    "lda_model = LdaModel(bow_corpus, num_topics=3, id2word=dictionary, passes=10)\n",
    "\n",
    "# Menampilkan topik\n",
    "topics = lda_model.print_topics(num_words=2)\n",
    "for topic in topics:\n",
    "    print(topic)\n"
   ]
  },
  {
   "cell_type": "markdown",
   "metadata": {},
   "source": [
    "TOPIC COHERENCE"
   ]
  },
  {
   "cell_type": "markdown",
   "metadata": {},
   "source": [
    "Segmentasi Corpus Sliding Windows 3"
   ]
  },
  {
   "cell_type": "code",
   "execution_count": 247,
   "metadata": {},
   "outputs": [
    {
     "name": "stdout",
     "output_type": "stream",
     "text": [
      "Sliding Windows untuk Semua Dokumen:\n",
      "  Window 1: ('mary', 'had', 'a')\n",
      "  Window 2: ('had', 'a', 'lamp')\n",
      "  Window 3: ('mary', 'has', 'roses')\n",
      "  Window 4: ('roses', 'are', 'red')\n",
      "  Window 5: ('violets', 'are', 'light')\n",
      "  Window 6: ('are', 'light', 'blue')\n"
     ]
    }
   ],
   "source": [
    "def generate_sliding_windows(document, window_size):\n",
    "    windows = []\n",
    "    words = document\n",
    "    \n",
    "    if len(words) < window_size:\n",
    "        return windows  # Tidak cukup kata untuk membuat satu jendela\n",
    "\n",
    "    for i in range(len(words) - window_size + 1):\n",
    "        window = tuple(words[i:i+window_size])\n",
    "        windows.append(window)\n",
    "\n",
    "    return windows\n",
    "\n",
    "\n",
    "# Sliding window size = 3\n",
    "window_size = 3\n",
    "\n",
    "all_sliding_windows = []\n",
    "\n",
    "# Generate sliding windows untuk setiap dokumen dalam corpus\n",
    "for i, document in enumerate(corpus):\n",
    "    sliding_windows = generate_sliding_windows(document, window_size)\n",
    "    all_sliding_windows.extend(sliding_windows)\n",
    "\n",
    "# Cetak hasil sliding windows untuk semua dokumen\n",
    "print(\"Sliding Windows untuk Semua Dokumen:\")\n",
    "for j, window in enumerate(all_sliding_windows):\n",
    "    print(f\"  Window {j+1}: {window}\")\n"
   ]
  },
  {
   "cell_type": "markdown",
   "metadata": {},
   "source": [
    "Probability Calculation"
   ]
  },
  {
   "cell_type": "code",
   "execution_count": 248,
   "metadata": {},
   "outputs": [
    {
     "name": "stdout",
     "output_type": "stream",
     "text": [
      "Probabilitas untuk Semua Kata (dalam bentuk pecahan):\n",
      "  Kata 'mary': 1/3\n",
      "  Kata 'had': 1/3\n",
      "  Kata 'a': 1/3\n",
      "  Kata 'lamp': 1/6\n",
      "  Kata 'has': 1/6\n",
      "  Kata 'roses': 1/3\n",
      "  Kata 'are': 1/2\n",
      "  Kata 'red': 1/6\n",
      "  Kata 'violets': 1/6\n",
      "  Kata 'light': 1/3\n",
      "  Kata 'blue': 1/6\n"
     ]
    }
   ],
   "source": [
    "# Fungsi untuk menghitung probabilitas semua kata dalam sliding windows\n",
    "def calculate_all_word_probabilities(all_sliding_windows):\n",
    "    # Menghitung frekuensi kemunculan setiap kata dalam semua sliding windows\n",
    "    word_counts = Counter(word for window in all_sliding_windows for word in window)\n",
    "    \n",
    "    # Menghitung jumlah total kata dalam semua sliding windows\n",
    "    total_words = sum(len(window) for window in all_sliding_windows)\n",
    "    \n",
    "    # Menghitung probabilitas setiap kata\n",
    "    probabilities = {word: Fraction(count, len(all_sliding_windows)) for word, count in word_counts.items()}\n",
    "    \n",
    "    return probabilities\n",
    "\n",
    "# Hitung probabilitas semua kata dalam semua sliding windows\n",
    "all_word_probabilities = calculate_all_word_probabilities(all_sliding_windows)\n",
    "\n",
    "# Cetak hasil probabilitas dalam bentuk pecahan\n",
    "print(\"Probabilitas untuk Semua Kata (dalam bentuk pecahan):\")\n",
    "for word, probability in all_word_probabilities.items():\n",
    "    print(f\"  Kata '{word}': {probability}\")\n"
   ]
  },
  {
   "cell_type": "code",
   "execution_count": 261,
   "metadata": {},
   "outputs": [
    {
     "name": "stdout",
     "output_type": "stream",
     "text": [
      "Kata hasil modelling : roses, red: 1/6\n",
      "Kata hasil modelling : light, blue: 1/6\n",
      "Kata hasil modelling : mary, lamp: 0\n"
     ]
    }
   ],
   "source": [
    "# Fungsi untuk menghitung probabilitas windows yang mengandung beberapa kombinasi kata target\n",
    "def calculate_custom_combination_window_probabilities(all_sliding_windows, target_combinations):\n",
    "    # Menghitung jumlah windows yang mengandung setiap kombinasi kata target\n",
    "    windows_with_target_combinations = sum(1 for window in all_sliding_windows if any(all(word in window for word in combination) for combination in target_combinations))\n",
    "    \n",
    "    # Menghitung jumlah total windows\n",
    "    total_windows = len(all_sliding_windows)\n",
    "    \n",
    "    # Menghitung probabilitas windows yang mengandung kombinasi kata target\n",
    "    probability_target_combinations = Fraction(windows_with_target_combinations, total_windows)\n",
    "    \n",
    "    return probability_target_combinations\n",
    "\n",
    "# Kombinasi kata topik yang ingin dihitung probabilitasnya\n",
    "target_combinations = [['roses', 'red'], ['light', 'blue'] , ['mary', 'lamp']]  \n",
    "\n",
    "# Iterasi melalui setiap kombinasi kata target\n",
    "for combination in target_combinations:\n",
    "    # Hitung probabilitas windows yang mengandung kombinasi kata target\n",
    "    combination_window_prob = calculate_custom_combination_window_probabilities(all_sliding_windows, [combination])\n",
    "\n",
    "    # Cetak hasil probabilitas untuk kombinasi kata tertentu dalam bentuk pecahan\n",
    "    print(f\"Kata hasil modelling : {', '.join(combination)}:\", combination_window_prob)"
   ]
  },
  {
   "cell_type": "markdown",
   "metadata": {},
   "source": [
    "Confirmation Measure"
   ]
  },
  {
   "cell_type": "code",
   "execution_count": 262,
   "metadata": {},
   "outputs": [
    {
     "name": "stdout",
     "output_type": "stream",
     "text": [
      "Skor 'roses' dan 'red': 0.6131471927654585\n"
     ]
    }
   ],
   "source": [
    "# Fungsi untuk menghitung NPMI antara dua kata\n",
    "def calculate_npmi(word1, word2, all_word_probabilities, all_sliding_windows):\n",
    "    # Menghitung probabilitas bersama P(w1, w2)\n",
    "    joint_probability = sum(1 for window in all_sliding_windows if word1 in window and word2 in window) / len(all_sliding_windows)\n",
    "\n",
    "    # Menghitung probabilitas P(w1) dan P(w2)\n",
    "    probability_word1 = all_word_probabilities.get(word1, 0)\n",
    "    probability_word2 = all_word_probabilities.get(word2, 0)\n",
    "\n",
    "    # Jika 0\n",
    "    if joint_probability == 0 or probability_word1 == 0 or probability_word2 == 0:\n",
    "        npmi = 0\n",
    "    else:\n",
    "\n",
    "        #Rumusnya\n",
    "        numerator = log(joint_probability / (probability_word1 * probability_word2))\n",
    "        denominator = -log(joint_probability)\n",
    "        npmi = numerator / denominator if denominator != 0 else 0\n",
    "\n",
    "    return npmi\n",
    "\n",
    "# Contoh penggunaan\n",
    "word1 = 'roses'\n",
    "word2 = 'red'\n",
    "\n",
    "# Hitung NPMI antara word1 dan word2\n",
    "npmi_value = calculate_npmi(word1, word2, all_word_probabilities, all_sliding_windows)\n",
    "\n",
    "# Cetak hasil NPMI\n",
    "print(f\"Skor '{word1}' dan '{word2}': {npmi_value}\")\n"
   ]
  }
 ],
 "metadata": {
  "kernelspec": {
   "display_name": "Python 3",
   "language": "python",
   "name": "python3"
  },
  "language_info": {
   "codemirror_mode": {
    "name": "ipython",
    "version": 3
   },
   "file_extension": ".py",
   "mimetype": "text/x-python",
   "name": "python",
   "nbconvert_exporter": "python",
   "pygments_lexer": "ipython3",
   "version": "3.9.0"
  }
 },
 "nbformat": 4,
 "nbformat_minor": 2
}
