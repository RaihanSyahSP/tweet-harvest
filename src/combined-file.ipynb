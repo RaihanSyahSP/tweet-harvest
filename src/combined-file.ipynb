{
 "cells": [
  {
   "cell_type": "code",
   "execution_count": null,
   "metadata": {},
   "outputs": [],
   "source": [
    "import pandas as pd\n",
    "import os\n",
    "\n",
    "input_directory = \"../tweets-data\"\n",
    "output_file = \"../tweets-data/Combined-File/combined.csv\"\n",
    "\n",
    "# Create an empty list to hold DataFrames\n",
    "data_frames = []\n",
    "\n",
    "for filename in os.listdir(input_directory):\n",
    "    if filename.endswith(\".csv\"):\n",
    "        file_path = os.path.join(input_directory, filename)\n",
    "        df = pd.read_csv(file_path)\n",
    "        data_frames.append(df)\n",
    "\n",
    "# Concatenate all DataFrames in the list\n",
    "combined_data = pd.concat(data_frames, ignore_index=True)\n",
    "\n",
    "# Remove duplicates based on all columns\n",
    "combined_data = combined_data.drop_duplicates()\n",
    "\n",
    "# Save the combined data to a CSV file\n",
    "combined_data.to_csv(output_file, index=False)\n"
   ]
  }
 ],
 "metadata": {
  "language_info": {
   "name": "python"
  }
 },
 "nbformat": 4,
 "nbformat_minor": 2
}
